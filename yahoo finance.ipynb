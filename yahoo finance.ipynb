{
 "cells": [
  {
   "cell_type": "code",
   "execution_count": 1,
   "id": "2de8cf26",
   "metadata": {},
   "outputs": [],
   "source": [
    "import pandas as pd \n",
    "import requests \n",
    "import csv\n",
    "from bs4 import BeautifulSoup\n"
   ]
  },
  {
   "cell_type": "code",
   "execution_count": 75,
   "id": "f6f44e28",
   "metadata": {},
   "outputs": [],
   "source": [
    "url=requests.get('https://finance.yahoo.com/quote/SPGI?p=SPG')"
   ]
  },
  {
   "cell_type": "code",
   "execution_count": 76,
   "id": "7dfef9fc",
   "metadata": {},
   "outputs": [],
   "source": [
    "src=url.content"
   ]
  },
  {
   "cell_type": "code",
   "execution_count": 77,
   "id": "1dd90040",
   "metadata": {},
   "outputs": [],
   "source": [
    "soup=BeautifulSoup(src,'lxml')"
   ]
  },
  {
   "cell_type": "code",
   "execution_count": 78,
   "id": "ee95877c",
   "metadata": {},
   "outputs": [],
   "source": [
    "stock =soup.find('div',{'class':\"D(ib) Va(m) Maw(65%) Ov(h)\"}).text"
   ]
  },
  {
   "cell_type": "code",
   "execution_count": 79,
   "id": "2c796cec",
   "metadata": {},
   "outputs": [],
   "source": [
    "stocks=stock[:5]"
   ]
  },
  {
   "cell_type": "code",
   "execution_count": 80,
   "id": "6515d997",
   "metadata": {},
   "outputs": [
    {
     "data": {
      "text/plain": [
       "'411.5'"
      ]
     },
     "execution_count": 80,
     "metadata": {},
     "output_type": "execute_result"
    }
   ],
   "source": [
    "stocks"
   ]
  },
  {
   "cell_type": "code",
   "execution_count": 81,
   "id": "c0dd4b75",
   "metadata": {},
   "outputs": [],
   "source": [
    "price=stock[6:]"
   ]
  },
  {
   "cell_type": "code",
   "execution_count": 82,
   "id": "d15d7b80",
   "metadata": {},
   "outputs": [
    {
     "data": {
      "text/plain": [
       "'411.54+3.42 (+0.84%)At close:  04:00PM EST411.10 -0.44 (-0.11%)Pre-Market: 08:00AM EST'"
      ]
     },
     "execution_count": 82,
     "metadata": {},
     "output_type": "execute_result"
    }
   ],
   "source": [
    "stock"
   ]
  },
  {
   "cell_type": "code",
   "execution_count": 83,
   "id": "56f2d063",
   "metadata": {},
   "outputs": [
    {
     "name": "stdout",
     "output_type": "stream",
     "text": [
      "+3.42 (+0.84%)At close:  04:00PM EST411.10 -0.44 (-0.11%)Pre-Market: 08:00AM EST 411.5\n"
     ]
    }
   ],
   "source": [
    "print(price,stocks)"
   ]
  },
  {
   "cell_type": "code",
   "execution_count": 103,
   "id": "560647e8",
   "metadata": {},
   "outputs": [
    {
     "name": "stdout",
     "output_type": "stream",
     "text": [
      "+0.79 (+0.15%)At close:  04:00PM EST522.21 0.00 (0.00%)Pre-Market: 07:15AM EST 522.2\n",
      "None\n"
     ]
    }
   ],
   "source": [
    "def get_data(symbol):\n",
    "    url=requests.get(f'https://finance.yahoo.com/quote/{symbol}')\n",
    "    src=url.content\n",
    "    soup=BeautifulSoup(src,'lxml')\n",
    "    stock =soup.find('div',{'class':\"D(ib) Va(m) Maw(65%) Ov(h)\"}).text\n",
    "    stocks=stock[:5]\n",
    "    price=stock[6:]\n",
    "    print(price,stocks)\n",
    "print(get_data('MSCI?p=MSCI'))"
   ]
  },
  {
   "cell_type": "code",
   "execution_count": 107,
   "id": "a69aab6d",
   "metadata": {},
   "outputs": [
    {
     "name": "stdout",
     "output_type": "stream",
     "text": [
      "Symbol: SPGI?p=SPG, Price: +3.42 (+0.84%)At close:  04:00PM EST410.01 -1.53 (-0.37%)Pre-Market: 08:46AM EST, Stocks: 411.5\n",
      "Symbol: MSCI?p=MSCI, Price: +0.79 (+0.15%)At close:  04:00PM EST522.21 0.00 (0.00%)Pre-Market: 07:15AM EST, Stocks: 522.2\n",
      "Symbol: YM%3DF?p, Price: .00-81.00 (-0.23%)As of  08:50AM EST. Market open., Stocks: 35,14\n",
      "Symbol: CL%3DF?p, Price: 0.90 (-1.16%)As of  08:51AM EST. Market open., Stocks: 76.93\n"
     ]
    }
   ],
   "source": [
    "import requests\n",
    "from bs4 import BeautifulSoup\n",
    "\n",
    "def get_data(*symbols):\n",
    "    for symbol in symbols:\n",
    "        url = f'https://finance.yahoo.com/quote/{symbol}'\n",
    "        response = requests.get(url)\n",
    "        soup = BeautifulSoup(response.content, 'html.parser')\n",
    "        stock_info = soup.find('div', {'class': \"D(ib) Va(m) Maw(65%) Ov(h)\"}).text.strip()\n",
    "        stocks = stock_info[:5]\n",
    "        price = stock_info[6:]\n",
    "        \n",
    "        print(f\"Symbol: {symbol}, Price: {price}, Stocks: {stocks}\")\n",
    "    \n",
    "mystocks = ['SPGI?p=SPG', 'MSCI?p=MSCI','YM%3DF?p','CL%3DF?p']\n",
    "get_data(*mystocks)\n"
   ]
  },
  {
   "cell_type": "code",
   "execution_count": null,
   "id": "1a90b2b4",
   "metadata": {},
   "outputs": [],
   "source": []
  }
 ],
 "metadata": {
  "kernelspec": {
   "display_name": "Python 3 (ipykernel)",
   "language": "python",
   "name": "python3"
  },
  "language_info": {
   "codemirror_mode": {
    "name": "ipython",
    "version": 3
   },
   "file_extension": ".py",
   "mimetype": "text/x-python",
   "name": "python",
   "nbconvert_exporter": "python",
   "pygments_lexer": "ipython3",
   "version": "3.11.5"
  }
 },
 "nbformat": 4,
 "nbformat_minor": 5
}
