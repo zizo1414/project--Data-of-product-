{
 "cells": [
  {
   "cell_type": "code",
   "execution_count": 2,
   "id": "b63913da",
   "metadata": {},
   "outputs": [],
   "source": [
    "import pandas as pd\n",
    "import requests\n",
    "from bs4 import BeautifulSoup\n"
   ]
  },
  {
   "cell_type": "code",
   "execution_count": 3,
   "id": "1c9fd833",
   "metadata": {},
   "outputs": [],
   "source": [
    "url=requests.get('http://books.toscrape.com/catalogue/category/books/sports-and-games_17/index.html')"
   ]
  },
  {
   "cell_type": "code",
   "execution_count": 4,
   "id": "e2b3b5a2",
   "metadata": {},
   "outputs": [],
   "source": [
    "src=url.content"
   ]
  },
  {
   "cell_type": "code",
   "execution_count": 5,
   "id": "6b449836",
   "metadata": {},
   "outputs": [],
   "source": [
    "soup=BeautifulSoup(src,'lxml')"
   ]
  },
  {
   "cell_type": "code",
   "execution_count": 6,
   "id": "bdc15026",
   "metadata": {},
   "outputs": [],
   "source": [
    "book_info=soup.find_all('li',{'class':'col-xs-6 col-sm-4 col-md-3 col-lg-3'})"
   ]
  },
  {
   "cell_type": "code",
   "execution_count": 7,
   "id": "816fb9b0",
   "metadata": {},
   "outputs": [
    {
     "data": {
      "text/plain": [
       "[<li class=\"col-xs-6 col-sm-4 col-md-3 col-lg-3\">\n",
       " <article class=\"product_pod\">\n",
       " <div class=\"image_container\">\n",
       " <a href=\"../../../the-book-of-basketball-the-nba-according-to-the-sports-guy_232/index.html\"><img alt=\"The Book of Basketball: The NBA According to The Sports Guy\" class=\"thumbnail\" src=\"../../../../media/cache/61/2c/612caeb0b2acb35c100629f0f52a40d7.jpg\"/></a>\n",
       " </div>\n",
       " <p class=\"star-rating Five\">\n",
       " <i class=\"icon-star\"></i>\n",
       " <i class=\"icon-star\"></i>\n",
       " <i class=\"icon-star\"></i>\n",
       " <i class=\"icon-star\"></i>\n",
       " <i class=\"icon-star\"></i>\n",
       " </p>\n",
       " <h3><a href=\"../../../the-book-of-basketball-the-nba-according-to-the-sports-guy_232/index.html\" title=\"The Book of Basketball: The NBA According to The Sports Guy\">The Book of Basketball: ...</a></h3>\n",
       " <div class=\"product_price\">\n",
       " <p class=\"price_color\">£44.84</p>\n",
       " <p class=\"instock availability\">\n",
       " <i class=\"icon-ok\"></i>\n",
       "     \n",
       "         In stock\n",
       "     \n",
       " </p>\n",
       " <form>\n",
       " <button class=\"btn btn-primary btn-block\" data-loading-text=\"Adding...\" type=\"submit\">Add to basket</button>\n",
       " </form>\n",
       " </div>\n",
       " </article>\n",
       " </li>,\n",
       " <li class=\"col-xs-6 col-sm-4 col-md-3 col-lg-3\">\n",
       " <article class=\"product_pod\">\n",
       " <div class=\"image_container\">\n",
       " <a href=\"../../../friday-night-lights-a-town-a-team-and-a-dream_158/index.html\"><img alt=\"Friday Night Lights: A Town, a Team, and a Dream\" class=\"thumbnail\" src=\"../../../../media/cache/7d/cf/7dcf6c3b419bf7e7e3b3b8162b177869.jpg\"/></a>\n",
       " </div>\n",
       " <p class=\"star-rating Three\">\n",
       " <i class=\"icon-star\"></i>\n",
       " <i class=\"icon-star\"></i>\n",
       " <i class=\"icon-star\"></i>\n",
       " <i class=\"icon-star\"></i>\n",
       " <i class=\"icon-star\"></i>\n",
       " </p>\n",
       " <h3><a href=\"../../../friday-night-lights-a-town-a-team-and-a-dream_158/index.html\" title=\"Friday Night Lights: A Town, a Team, and a Dream\">Friday Night Lights: A ...</a></h3>\n",
       " <div class=\"product_price\">\n",
       " <p class=\"price_color\">£51.22</p>\n",
       " <p class=\"instock availability\">\n",
       " <i class=\"icon-ok\"></i>\n",
       "     \n",
       "         In stock\n",
       "     \n",
       " </p>\n",
       " <form>\n",
       " <button class=\"btn btn-primary btn-block\" data-loading-text=\"Adding...\" type=\"submit\">Add to basket</button>\n",
       " </form>\n",
       " </div>\n",
       " </article>\n",
       " </li>,\n",
       " <li class=\"col-xs-6 col-sm-4 col-md-3 col-lg-3\">\n",
       " <article class=\"product_pod\">\n",
       " <div class=\"image_container\">\n",
       " <a href=\"../../../sugar-rush-offensive-line-2_108/index.html\"><img alt=\"Sugar Rush (Offensive Line #2)\" class=\"thumbnail\" src=\"../../../../media/cache/c3/a9/c3a90a5baa833a37c29c4b03a444737c.jpg\"/></a>\n",
       " </div>\n",
       " <p class=\"star-rating One\">\n",
       " <i class=\"icon-star\"></i>\n",
       " <i class=\"icon-star\"></i>\n",
       " <i class=\"icon-star\"></i>\n",
       " <i class=\"icon-star\"></i>\n",
       " <i class=\"icon-star\"></i>\n",
       " </p>\n",
       " <h3><a href=\"../../../sugar-rush-offensive-line-2_108/index.html\" title=\"Sugar Rush (Offensive Line #2)\">Sugar Rush (Offensive Line ...</a></h3>\n",
       " <div class=\"product_price\">\n",
       " <p class=\"price_color\">£24.42</p>\n",
       " <p class=\"instock availability\">\n",
       " <i class=\"icon-ok\"></i>\n",
       "     \n",
       "         In stock\n",
       "     \n",
       " </p>\n",
       " <form>\n",
       " <button class=\"btn btn-primary btn-block\" data-loading-text=\"Adding...\" type=\"submit\">Add to basket</button>\n",
       " </form>\n",
       " </div>\n",
       " </article>\n",
       " </li>,\n",
       " <li class=\"col-xs-6 col-sm-4 col-md-3 col-lg-3\">\n",
       " <article class=\"product_pod\">\n",
       " <div class=\"image_container\">\n",
       " <a href=\"../../../settling-the-score-the-summer-games-1_50/index.html\"><img alt=\"Settling the Score (The Summer Games #1)\" class=\"thumbnail\" src=\"../../../../media/cache/9b/4e/9b4ece2ab5a6335c8594c878e2f22df1.jpg\"/></a>\n",
       " </div>\n",
       " <p class=\"star-rating Two\">\n",
       " <i class=\"icon-star\"></i>\n",
       " <i class=\"icon-star\"></i>\n",
       " <i class=\"icon-star\"></i>\n",
       " <i class=\"icon-star\"></i>\n",
       " <i class=\"icon-star\"></i>\n",
       " </p>\n",
       " <h3><a href=\"../../../settling-the-score-the-summer-games-1_50/index.html\" title=\"Settling the Score (The Summer Games #1)\">Settling the Score (The ...</a></h3>\n",
       " <div class=\"product_price\">\n",
       " <p class=\"price_color\">£44.91</p>\n",
       " <p class=\"instock availability\">\n",
       " <i class=\"icon-ok\"></i>\n",
       "     \n",
       "         In stock\n",
       "     \n",
       " </p>\n",
       " <form>\n",
       " <button class=\"btn btn-primary btn-block\" data-loading-text=\"Adding...\" type=\"submit\">Add to basket</button>\n",
       " </form>\n",
       " </div>\n",
       " </article>\n",
       " </li>,\n",
       " <li class=\"col-xs-6 col-sm-4 col-md-3 col-lg-3\">\n",
       " <article class=\"product_pod\">\n",
       " <div class=\"image_container\">\n",
       " <a href=\"../../../icing-aces-hockey-2_25/index.html\"><img alt=\"Icing (Aces Hockey #2)\" class=\"thumbnail\" src=\"../../../../media/cache/8d/1e/8d1e285bf672b2ea66879490cc5f6904.jpg\"/></a>\n",
       " </div>\n",
       " <p class=\"star-rating Four\">\n",
       " <i class=\"icon-star\"></i>\n",
       " <i class=\"icon-star\"></i>\n",
       " <i class=\"icon-star\"></i>\n",
       " <i class=\"icon-star\"></i>\n",
       " <i class=\"icon-star\"></i>\n",
       " </p>\n",
       " <h3><a href=\"../../../icing-aces-hockey-2_25/index.html\" title=\"Icing (Aces Hockey #2)\">Icing (Aces Hockey #2)</a></h3>\n",
       " <div class=\"product_price\">\n",
       " <p class=\"price_color\">£40.44</p>\n",
       " <p class=\"instock availability\">\n",
       " <i class=\"icon-ok\"></i>\n",
       "     \n",
       "         In stock\n",
       "     \n",
       " </p>\n",
       " <form>\n",
       " <button class=\"btn btn-primary btn-block\" data-loading-text=\"Adding...\" type=\"submit\">Add to basket</button>\n",
       " </form>\n",
       " </div>\n",
       " </article>\n",
       " </li>]"
      ]
     },
     "execution_count": 7,
     "metadata": {},
     "output_type": "execute_result"
    }
   ],
   "source": [
    "book_info"
   ]
  },
  {
   "cell_type": "code",
   "execution_count": 89,
   "id": "5f44bc7d",
   "metadata": {},
   "outputs": [],
   "source": [
    "bookname=[]\n",
    "price=[]\n",
    "book_availability=[]"
   ]
  },
  {
   "cell_type": "code",
   "execution_count": null,
   "id": "5cea36db",
   "metadata": {},
   "outputs": [],
   "source": []
  },
  {
   "cell_type": "code",
   "execution_count": null,
   "id": "3ef1556f",
   "metadata": {},
   "outputs": [],
   "source": []
  },
  {
   "cell_type": "code",
   "execution_count": null,
   "id": "f703afce",
   "metadata": {},
   "outputs": [],
   "source": []
  },
  {
   "cell_type": "code",
   "execution_count": 90,
   "id": "f47d863b",
   "metadata": {},
   "outputs": [],
   "source": [
    " for book in book_info :\n",
    "        \n",
    "        bookname.append(book.find('h3').text)\n",
    "        book_price=book.find('div',{'class':'product_price'}).find('p',{'class':'price_color'})\n",
    "        price.append(book_price.text.strip())\n",
    "        stock=book.find('div',{'class':'product_price'}).find('p',{'class':'instock availability'})\n",
    "        book_availability.append(stock.text.strip())"
   ]
  },
  {
   "cell_type": "code",
   "execution_count": 91,
   "id": "85e5d6bd",
   "metadata": {},
   "outputs": [
    {
     "name": "stdout",
     "output_type": "stream",
     "text": [
      "['In stock', 'In stock', 'In stock', 'In stock', 'In stock']\n"
     ]
    }
   ],
   "source": [
    "print(book_availability)"
   ]
  },
  {
   "cell_type": "code",
   "execution_count": 93,
   "id": "14277482",
   "metadata": {},
   "outputs": [],
   "source": [
    " data = {\n",
    "    'book_name': bookname,\n",
    "    'price_tag': price,\n",
    "    'stock': book_availability\n",
    "}\n",
    "\n",
    "df = pd.DataFrame(data)"
   ]
  },
  {
   "cell_type": "code",
   "execution_count": 94,
   "id": "7acb462b",
   "metadata": {},
   "outputs": [
    {
     "data": {
      "text/html": [
       "<div>\n",
       "<style scoped>\n",
       "    .dataframe tbody tr th:only-of-type {\n",
       "        vertical-align: middle;\n",
       "    }\n",
       "\n",
       "    .dataframe tbody tr th {\n",
       "        vertical-align: top;\n",
       "    }\n",
       "\n",
       "    .dataframe thead th {\n",
       "        text-align: right;\n",
       "    }\n",
       "</style>\n",
       "<table border=\"1\" class=\"dataframe\">\n",
       "  <thead>\n",
       "    <tr style=\"text-align: right;\">\n",
       "      <th></th>\n",
       "      <th>book_name</th>\n",
       "      <th>price_tag</th>\n",
       "      <th>stock</th>\n",
       "    </tr>\n",
       "  </thead>\n",
       "  <tbody>\n",
       "    <tr>\n",
       "      <th>0</th>\n",
       "      <td>The Book of Basketball: ...</td>\n",
       "      <td>£44.84</td>\n",
       "      <td>In stock</td>\n",
       "    </tr>\n",
       "    <tr>\n",
       "      <th>1</th>\n",
       "      <td>Friday Night Lights: A ...</td>\n",
       "      <td>£51.22</td>\n",
       "      <td>In stock</td>\n",
       "    </tr>\n",
       "    <tr>\n",
       "      <th>2</th>\n",
       "      <td>Sugar Rush (Offensive Line ...</td>\n",
       "      <td>£24.42</td>\n",
       "      <td>In stock</td>\n",
       "    </tr>\n",
       "    <tr>\n",
       "      <th>3</th>\n",
       "      <td>Settling the Score (The ...</td>\n",
       "      <td>£44.91</td>\n",
       "      <td>In stock</td>\n",
       "    </tr>\n",
       "    <tr>\n",
       "      <th>4</th>\n",
       "      <td>Icing (Aces Hockey #2)</td>\n",
       "      <td>£40.44</td>\n",
       "      <td>In stock</td>\n",
       "    </tr>\n",
       "  </tbody>\n",
       "</table>\n",
       "</div>"
      ],
      "text/plain": [
       "                        book_name price_tag     stock\n",
       "0     The Book of Basketball: ...    £44.84  In stock\n",
       "1      Friday Night Lights: A ...    £51.22  In stock\n",
       "2  Sugar Rush (Offensive Line ...    £24.42  In stock\n",
       "3     Settling the Score (The ...    £44.91  In stock\n",
       "4          Icing (Aces Hockey #2)    £40.44  In stock"
      ]
     },
     "execution_count": 94,
     "metadata": {},
     "output_type": "execute_result"
    }
   ],
   "source": [
    "df"
   ]
  },
  {
   "cell_type": "code",
   "execution_count": null,
   "id": "da7edad7",
   "metadata": {},
   "outputs": [],
   "source": []
  },
  {
   "cell_type": "code",
   "execution_count": null,
   "id": "02e1edc8",
   "metadata": {},
   "outputs": [],
   "source": []
  },
  {
   "cell_type": "code",
   "execution_count": null,
   "id": "2205d2d5",
   "metadata": {},
   "outputs": [],
   "source": []
  },
  {
   "cell_type": "code",
   "execution_count": null,
   "id": "62aefbc5",
   "metadata": {},
   "outputs": [],
   "source": []
  },
  {
   "cell_type": "code",
   "execution_count": null,
   "id": "763c50cb",
   "metadata": {},
   "outputs": [],
   "source": []
  },
  {
   "cell_type": "code",
   "execution_count": null,
   "id": "b127b882",
   "metadata": {},
   "outputs": [],
   "source": []
  },
  {
   "cell_type": "code",
   "execution_count": 53,
   "id": "a290f1a8",
   "metadata": {},
   "outputs": [],
   "source": []
  },
  {
   "cell_type": "code",
   "execution_count": null,
   "id": "437440b3",
   "metadata": {},
   "outputs": [],
   "source": []
  }
 ],
 "metadata": {
  "kernelspec": {
   "display_name": "Python 3 (ipykernel)",
   "language": "python",
   "name": "python3"
  },
  "language_info": {
   "codemirror_mode": {
    "name": "ipython",
    "version": 3
   },
   "file_extension": ".py",
   "mimetype": "text/x-python",
   "name": "python",
   "nbconvert_exporter": "python",
   "pygments_lexer": "ipython3",
   "version": "3.11.5"
  }
 },
 "nbformat": 4,
 "nbformat_minor": 5
}
